!pip install langchain


#Let's use Gemini#


pip install -U langchain-google-genai


import getpass
import os

if "GOOGLE_API_KEY" not in os.environ:
    os.environ["GOOGLE_API_KEY"] = getpass.getpass("Enter your Google AI API key: ")


from langchain_google_genai import ChatGoogleGenerativeAI




from langchain.schema import HumanMessage, SystemMessage, AIMessage


llm = ChatGoogleGenerativeAI(
    model="gemini-2.0-flash",
    temperature=1.7,
    max_tokens=None,
    timeout=None,
    max_retries=2,
    # other params...
)


messages = [
    (
        "system",
        "You are a sarcastic AI assistant",
    ),
    ("human", "I wanna to play football"),
]
ai_msg = llm.invoke(messages)
ai_msg


AIMessage(content="You are a 3 year old girl who answers very cutely and in  a funny way", additional_kwargs={}, response_metadata={'prompt_feedback': {'block_reason': 0, 'safety_ratings': []}, 'finish_reason': 'STOP', 'model_name': 'gemini-2.0-flash', 'safety_ratings': []}, id='run-3b28d4b8-8a62-4e6c-ad4e-b53e6e825749-0', usage_metadata={'input_tokens': 20, 'output_tokens': 7, 'total_tokens': 27, 'input_token_details': {'cache_read': 0}})




print(ai_msg.content)


pip install langchain


import os
os.environ["XDG_CONFIG_HOME"] = "/tmp"




